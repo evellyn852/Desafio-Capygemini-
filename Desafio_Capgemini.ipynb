{
  "cells": [
    {
      "cell_type": "markdown",
      "metadata": {
        "id": "view-in-github",
        "colab_type": "text"
      },
      "source": [
        "<a href=\"https://colab.research.google.com/github/evellyn852/Desafio-Capygemini-/blob/main/Desafio_Capgemini.ipynb\" target=\"_parent\"><img src=\"https://colab.research.google.com/assets/colab-badge.svg\" alt=\"Open In Colab\"/></a>"
      ]
    },
    {
      "cell_type": "markdown",
      "metadata": {
        "id": "T7ImTtxWp-xT"
      },
      "source": [
        "# <font color='blue'>Desafio Capgemini 06/03/2022 </font>\n"
      ]
    },
    {
      "cell_type": "markdown",
      "source": [
        "## Importando bibliotecas"
      ],
      "metadata": {
        "id": "2FPHsRoepbpD"
      }
    },
    {
      "cell_type": "code",
      "source": [
        "## importar o pacote math \n",
        "import math"
      ],
      "metadata": {
        "id": "X3k6qRhxpaxJ"
      },
      "execution_count": null,
      "outputs": []
    },
    {
      "cell_type": "markdown",
      "source": [
        "## Questão 1\n"
      ],
      "metadata": {
        "id": "tttKyX2a71Ay"
      }
    },
    {
      "cell_type": "code",
      "source": [
        "## algoritmo para achar a mediana de uma lista com número ímpar de elementos\n",
        "\n",
        "\n",
        "## criação da lista \n",
        "lista = [53, 200, 25, 30, 4, 15, 10, 2, 11, 7, 35]\n",
        "\n",
        "## tamanho da lista\n",
        "tamanhoLista = len(lista)\n",
        "\n",
        "## posição da lista. É necessário utilizar a função math.ceil para arredondar o valor para o próximo número inteiro\n",
        "posicao  = math.ceil(tamanhoLista/2)\n",
        "\n",
        "## ordenação da lista\n",
        "lista.sort()\n",
        "print(lista)\n",
        "\n",
        "## resultado da mediana da lista criada\n",
        "print ('A mediana é :', lista[posicao-1])"
      ],
      "metadata": {
        "colab": {
          "base_uri": "https://localhost:8080/"
        },
        "id": "ZpyIGyxT77f5",
        "outputId": "6e97c0c5-9047-4755-d3ce-1b9d28af2348"
      },
      "execution_count": null,
      "outputs": [
        {
          "output_type": "stream",
          "name": "stdout",
          "text": [
            "[2, 4, 7, 10, 11, 15, 25, 30, 35, 53, 200]\n",
            "A mediana é : 15\n"
          ]
        }
      ]
    },
    {
      "cell_type": "markdown",
      "source": [
        "## Questão 2"
      ],
      "metadata": {
        "id": "_Ryl9TILF9Vj"
      }
    },
    {
      "cell_type": "code",
      "source": [
        "## a função acharPares encontra os pares que a diferença entre eles é um valor dado.\n",
        "def acharPares(vetor,x):\n",
        "  contador=0\n",
        "  tamanho = len(vetor)\n",
        "  inicio = 1\n",
        "  vetorPar = []\n",
        "  for i in range (0, tamanho):\n",
        "    for j in range(0,tamanho):\n",
        "      sub = abs(vetor[i] - vetor[j])\n",
        "      if(sub == x):\n",
        "        if(vetor[i]-vetor[j]>0):\n",
        "          par = [vetor[i],vetor[j]]\n",
        "          vetorPar.append(par)\n",
        "          contador = contador+1\n",
        "        else:\n",
        "          par = [vetor[j],vetor[i]]\n",
        "          if(par in vetorPar == False):\n",
        "             vetorPar.append(par)\n",
        "             contador = contador+1\n",
        "  print('Os pares encontrados são: ',vetorPar)\n",
        "  print('Existem ',contador, 'pares de inteiros no vetor com uma diferença de ',x)"
      ],
      "metadata": {
        "id": "Jto7BXBkGHV6"
      },
      "execution_count": null,
      "outputs": []
    },
    {
      "cell_type": "code",
      "source": [
        "listaTeste = [6,1,7,8,9]\n",
        "y=3\n",
        "acharPares(listaTeste, y)"
      ],
      "metadata": {
        "colab": {
          "base_uri": "https://localhost:8080/"
        },
        "id": "Ig_MvZeFWrlW",
        "outputId": "9471303e-5a5d-4032-c221-9906c5274715"
      },
      "execution_count": null,
      "outputs": [
        {
          "output_type": "stream",
          "name": "stdout",
          "text": [
            "Os pares encontrados são:  [[9, 6]]\n",
            "Existem  1 pares de inteiros no vetor com uma diferença de  3\n"
          ]
        }
      ]
    },
    {
      "cell_type": "markdown",
      "source": [
        "## Questão 3"
      ],
      "metadata": {
        "id": "u2cStCP2k1Fq"
      }
    },
    {
      "cell_type": "code",
      "source": [
        "def encriptar (str):\n",
        "  string = str.replace(\" \", \"\")\n",
        "  T = len(string)\n",
        "  ordem = math.ceil(math.sqrt(T))\n",
        "  \n",
        "  grid = [] \n",
        "  str = \"\"\n",
        "  count = 0\n",
        "  for i in range (0,ordem):\n",
        "    for j in range (0,ordem):\n",
        "      str = str + string[count]\n",
        "      count=count +1\n",
        "    grid.append (str)\n",
        "    str=\"\"      \n",
        "\n",
        "\n",
        "  cripto=[]\n",
        "  strt= \"\"\n",
        "  for i in range (0,ordem):\n",
        "    for j in range (0,ordem):\n",
        "      strt= strt + grid[j][i]\n",
        "    cripto.append(strt) \n",
        "    strt=\"\"\n",
        "  \n",
        "  fraseEncriptada = \"\"\n",
        "  for item in cripto:\n",
        "    fraseEncriptada = fraseEncriptada + item + \" \"\n",
        "  print(fraseEncriptada)\n",
        "\n",
        "\n"
      ],
      "metadata": {
        "id": "0PJWBsRkk4nT"
      },
      "execution_count": null,
      "outputs": []
    },
    {
      "cell_type": "code",
      "source": [
        "string = \"meu nome e fernanda\"\n",
        "encriptar (string)"
      ],
      "metadata": {
        "colab": {
          "base_uri": "https://localhost:8080/"
        },
        "id": "YNG5Jw1s6WkN",
        "outputId": "016cd2d5-7d55-4fed-e43a-c3b6cc01fd34"
      },
      "execution_count": null,
      "outputs": [
        {
          "output_type": "stream",
          "name": "stdout",
          "text": [
            "mofa emen uerd nena \n"
          ]
        }
      ]
    }
  ],
  "metadata": {
    "anaconda-cloud": {},
    "kernelspec": {
      "display_name": "Python 3",
      "language": "python",
      "name": "python3"
    },
    "language_info": {
      "codemirror_mode": {
        "name": "ipython",
        "version": 3
      },
      "file_extension": ".py",
      "mimetype": "text/x-python",
      "name": "python",
      "nbconvert_exporter": "python",
      "pygments_lexer": "ipython3",
      "version": "3.8.8"
    },
    "colab": {
      "name": "Desafio Capgemini.ipynb",
      "provenance": [],
      "collapsed_sections": [],
      "include_colab_link": true
    }
  },
  "nbformat": 4,
  "nbformat_minor": 0
}